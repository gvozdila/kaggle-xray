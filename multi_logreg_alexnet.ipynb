{
 "cells": [
  {
   "cell_type": "code",
   "execution_count": 13,
   "id": "9ab15f88-cbe7-4234-98ee-b5bdc5a07b5f",
   "metadata": {},
   "outputs": [],
   "source": [
    "import pandas as pd\n",
    "import pylab as pl\n",
    "import numpy as np\n",
    "from sklearn import preprocessing\n",
    "%matplotlib inline \n",
    "import matplotlib.pyplot as plt"
   ]
  },
  {
   "cell_type": "code",
   "execution_count": 14,
   "id": "ab377710-1c0e-4431-8346-546ef1b13828",
   "metadata": {},
   "outputs": [],
   "source": [
    "import pickle\n",
    "import pandas as pd\n",
    "with open('alexnet.fea', 'rb') as f:\n",
    "    alex_features = pickle.load(f)\n",
    "\n",
    "train_metadata_df = pd.read_csv('dicom_metadata_train_merged.csv') # Took it from kaggle notebooks\n",
    "import torch\n",
    "\n",
    "alex_np_fea = [ elem.numpy()[0] for elem in alex_features ]\n",
    "\n",
    "\n",
    "mult_lab = train_metadata_df.iloc[:, 64:]"
   ]
  },
  {
   "cell_type": "code",
   "execution_count": 15,
   "id": "9a7b9ddb-b054-42da-be39-30525804c8a5",
   "metadata": {},
   "outputs": [
    {
     "data": {
      "text/plain": [
       "(1000,)"
      ]
     },
     "execution_count": 15,
     "metadata": {},
     "output_type": "execute_result"
    }
   ],
   "source": [
    "alex_features[0].numpy()[0].shape"
   ]
  },
  {
   "cell_type": "code",
   "execution_count": 16,
   "id": "d754ea20-27ad-4f05-a37c-cf679ca3d2a1",
   "metadata": {},
   "outputs": [],
   "source": [
    "# multiclass iterative_train_test_split\n",
    "# http://scikit.ml/api/skmultilearn.model_selection.iterative_stratification.html#module-skmultilearn.model_selection.iterative_stratification\n",
    "#!pip install scikit-multilearn\n",
    "from skmultilearn.model_selection import iterative_train_test_split\n",
    "X_train, y_train, X_test, y_test = iterative_train_test_split(np.array(alex_np_fea), mult_lab.to_numpy(), test_size = 0.2)"
   ]
  },
  {
   "cell_type": "code",
   "execution_count": 17,
   "id": "97e17f24-a642-4bf5-88f7-57fea0eeae73",
   "metadata": {},
   "outputs": [
    {
     "name": "stdout",
     "output_type": "stream",
     "text": [
      "Size of data: 1738\n",
      "Size of train set 1387\n",
      "Fraction of each bodypart in train set and in full data:\n",
      "0 Abdomen        0.05 0.05\n",
      "1 Ankle          0.03 0.03\n",
      "2 Cervical Spine 0.05 0.05\n",
      "3 Chest          0.43 0.42\n",
      "4 Clavicles      0.01 0.01\n",
      "5 Elbow          0.01 0.01\n",
      "6 Feet           0.04 0.04\n",
      "7 Finger         0.01 0.01\n",
      "8 Forearm        0.01 0.01\n",
      "9 Hand           0.04 0.04\n",
      "10 Hip            0.01 0.01\n",
      "11 Knee           0.06 0.06\n",
      "12 Lower Leg      0.02 0.01\n",
      "13 Lumbar Spine   0.05 0.05\n",
      "14 Others         0.07 0.07\n",
      "15 Pelvis         0.04 0.04\n",
      "16 Shoulder       0.02 0.02\n",
      "17 Sinus          0.01 0.01\n",
      "18 Skull          0.01 0.01\n",
      "19 Thigh          0.01 0.01\n",
      "20 Thoracic Spine 0.04 0.04\n",
      "21 Wrist          0.06 0.06\n"
     ]
    }
   ],
   "source": [
    "# Check if the classes in the train set are distributed the same way as in full data\n",
    "print(\"Size of data:\", len(mult_lab))\n",
    "print(\"Size of train set\", len(y_train))\n",
    "#print(mult_lab['Abdomen'].sum())      # number of abdomens in data\n",
    "#print(mult_lab.to_numpy()[:,0].sum()) # number of abdomens in data\n",
    "#print(y_train[:,0].sum())             # number of abdomens in train set\n",
    "\n",
    "print(\"Fraction of each bodypart in train set and in full data:\")\n",
    "for i, k in enumerate(mult_lab.keys()):\n",
    "    print(i, k.ljust(14,' '), round(y_train[:,i].sum()/len(y_train), 2), round(mult_lab[k].sum()/len(mult_lab), 2))"
   ]
  },
  {
   "cell_type": "markdown",
   "id": "8d739df5-0b70-47a7-ae5a-76d0d609ca1b",
   "metadata": {},
   "source": [
    "<h2 id=\"Standardization\">Standardization</h2>"
   ]
  },
  {
   "cell_type": "code",
   "execution_count": 23,
   "id": "ec87ddda-3146-4e6b-b75f-39c0a8533200",
   "metadata": {},
   "outputs": [],
   "source": [
    "from sklearn import preprocessing\n",
    "scaler = preprocessing.StandardScaler().fit(X_train)\n",
    "#scaler.mean_[:3]\n",
    "#scaler.scale_[:3]\n",
    "X_train_scaled = scaler.transform(X_train)\n",
    "X_test_scaled = scaler.transform(X_test)\n",
    "#X_train_scaled[:3]"
   ]
  },
  {
   "cell_type": "markdown",
   "id": "29b14bf2-db47-44d4-93ac-561c5afbc10b",
   "metadata": {},
   "source": [
    "<h2 id=\"MultiOutputClassifier\">MultiOutputClassifier</h2>"
   ]
  },
  {
   "cell_type": "code",
   "execution_count": 20,
   "id": "da0dad1f-2c3b-4709-8ed2-f154f1816b10",
   "metadata": {},
   "outputs": [],
   "source": [
    "from sklearn.multioutput import MultiOutputClassifier\n",
    "from sklearn.linear_model import LogisticRegression\n",
    "clf = MultiOutputClassifier(LogisticRegression(solver='liblinear')).fit(X_train_scaled, y_train)\n"
   ]
  },
  {
   "cell_type": "code",
   "execution_count": null,
   "id": "334c4dcc-9991-4683-9d45-6545fa9cb254",
   "metadata": {},
   "outputs": [],
   "source": [
    "y_pred = clf.predict(X_test)"
   ]
  },
  {
   "cell_type": "code",
   "execution_count": 51,
   "id": "0b1b0098-e600-4ae2-afca-8b85d5825585",
   "metadata": {},
   "outputs": [
    {
     "name": "stdout",
     "output_type": "stream",
     "text": [
      "Abdomen        0.9629629629629629\n",
      "Ankle          0.9686609686609686\n",
      "Cervical Spine 0.9914529914529915\n",
      "Chest          0.42450142450142453\n",
      "Clavicles      0.9943019943019943\n",
      "Elbow          0.9857549857549858\n",
      "Feet           0.9686609686609686\n",
      "Finger         0.9943019943019943\n",
      "Forearm        0.9943019943019943\n",
      "Hand           0.9772079772079773\n",
      "Hip            0.9857549857549858\n",
      "Knee           0.9772079772079773\n",
      "Lower Leg      0.9857549857549858\n",
      "Lumbar Spine   0.9515669515669516\n",
      "Others         0.9316239316239316\n",
      "Pelvis         0.9743589743589743\n",
      "Shoulder       0.9772079772079773\n",
      "Sinus          0.9857549857549858\n",
      "Skull          1.0\n",
      "Thigh          0.9943019943019943\n",
      "Thoracic Spine 0.9686609686609686\n",
      "Wrist          0.9743589743589743\n"
     ]
    }
   ],
   "source": [
    "from sklearn.metrics import accuracy_score\n",
    "#accuracy_score(y_true, y_pred, *, normalize=True, sample_weight=None)[source]¶\n",
    "#accuracy_score(y_test, y_pred)\n",
    "for i, k in enumerate(mult_lab.keys()):\n",
    "    print(k.ljust(14,' '), accuracy_score(y_test[:,i], y_pred[:,i]))"
   ]
  },
  {
   "cell_type": "code",
   "execution_count": 24,
   "id": "075b1273-436b-4a8a-8592-f383c86dee84",
   "metadata": {},
   "outputs": [
    {
     "name": "stdout",
     "output_type": "stream",
     "text": [
      "F1-scores:\n",
      "Abdomen        0.4347826086956522\n",
      "Ankle          0.0\n",
      "Cervical Spine 0.896551724137931\n",
      "Chest          0.5943775100401607\n",
      "Clavicles      0.0\n",
      "Elbow          0.0\n",
      "Feet           0.717948717948718\n",
      "Finger         0.5\n",
      "Forearm        0.5\n",
      "Hand           0.6363636363636364\n",
      "Hip            0.0\n",
      "Knee           0.7777777777777778\n",
      "Lower Leg      0.0\n",
      "Lumbar Spine   0.0\n",
      "Others         0.0\n",
      "Pelvis         0.6666666666666666\n",
      "Shoulder       0.0\n",
      "Sinus          0.0\n",
      "Skull          1.0\n",
      "Thigh          0.5\n",
      "Thoracic Spine 0.2666666666666667\n",
      "Wrist          0.7906976744186046\n"
     ]
    }
   ],
   "source": [
    "from sklearn.metrics import f1_score\n",
    "print('F1-scores:')\n",
    "for i, k in enumerate(mult_lab.keys()):\n",
    "#for i in range(y_pred.shape[1]):\n",
    "    print(k.ljust(14,' '), f1_score(y_test[:,i], y_pred[:,i]))\n"
   ]
  },
  {
   "cell_type": "code",
   "execution_count": 45,
   "id": "e127fbb4-3037-4e65-bc91-2b9b4cec78a4",
   "metadata": {},
   "outputs": [
    {
     "name": "stdout",
     "output_type": "stream",
     "text": [
      "Abdomen\n",
      "[[333   0]\n",
      " [ 13   5]]\n",
      "Ankle\n",
      "[[340   0]\n",
      " [ 11   0]]\n",
      "Cervical Spine\n",
      "[[335   0]\n",
      " [  3  13]]\n",
      "Chest\n",
      "[[  1 202]\n",
      " [  0 148]]\n",
      "Clavicles\n",
      "[[349   0]\n",
      " [  2   0]]\n",
      "Elbow\n",
      "[[346   0]\n",
      " [  5   0]]\n",
      "Feet\n",
      "[[326   9]\n",
      " [  2  14]]\n",
      "Finger\n",
      "[[348   0]\n",
      " [  2   1]]\n",
      "Forearm\n",
      "[[348   0]\n",
      " [  2   1]]\n",
      "Hand\n",
      "[[336   0]\n",
      " [  8   7]]\n",
      "Hip\n",
      "[[346   0]\n",
      " [  5   0]]\n",
      "Knee\n",
      "[[329   0]\n",
      " [  8  14]]\n",
      "Lower Leg\n",
      "[[346   0]\n",
      " [  5   0]]\n",
      "Lumbar Spine\n",
      "[[334   0]\n",
      " [ 17   0]]\n",
      "Others\n",
      "[[327   0]\n",
      " [ 24   0]]\n",
      "Pelvis\n",
      "[[333   4]\n",
      " [  5   9]]\n",
      "Shoulder\n",
      "[[343   0]\n",
      " [  8   0]]\n",
      "Sinus\n",
      "[[346   0]\n",
      " [  5   0]]\n",
      "Skull\n",
      "[[349   0]\n",
      " [  0   2]]\n",
      "Thigh\n",
      "[[348   0]\n",
      " [  2   1]]\n",
      "Thoracic Spine\n",
      "[[338   0]\n",
      " [ 11   2]]\n",
      "Wrist\n",
      "[[325   5]\n",
      " [  4  17]]\n",
      "              precision    recall  f1-score   support\n",
      "\n",
      "           0       0.97      1.00      0.98       340\n",
      "           1       0.00      0.00      0.00        11\n",
      "\n",
      "    accuracy                           0.97       351\n",
      "   macro avg       0.48      0.50      0.49       351\n",
      "weighted avg       0.94      0.97      0.95       351\n",
      "\n"
     ]
    },
    {
     "name": "stderr",
     "output_type": "stream",
     "text": [
      "/home/anka/.local/lib/python3.10/site-packages/sklearn/metrics/_classification.py:1327: UndefinedMetricWarning: Precision and F-score are ill-defined and being set to 0.0 in labels with no predicted samples. Use `zero_division` parameter to control this behavior.\n",
      "  _warn_prf(average, modifier, msg_start, len(result))\n",
      "/home/anka/.local/lib/python3.10/site-packages/sklearn/metrics/_classification.py:1327: UndefinedMetricWarning: Precision and F-score are ill-defined and being set to 0.0 in labels with no predicted samples. Use `zero_division` parameter to control this behavior.\n",
      "  _warn_prf(average, modifier, msg_start, len(result))\n",
      "/home/anka/.local/lib/python3.10/site-packages/sklearn/metrics/_classification.py:1327: UndefinedMetricWarning: Precision and F-score are ill-defined and being set to 0.0 in labels with no predicted samples. Use `zero_division` parameter to control this behavior.\n",
      "  _warn_prf(average, modifier, msg_start, len(result))\n"
     ]
    }
   ],
   "source": [
    "from sklearn.metrics import confusion_matrix, classification_report\n",
    "#from sklearn.metrics import roc_auc_score\n",
    "\n",
    "for i, k in enumerate(mult_lab.keys()):\n",
    "    print(k)\n",
    "    print(confusion_matrix(y_test[:,i],y_pred[:,i]))\n",
    "    #print(classification_report(y_test[:,i],y_pred[:,i]))\n",
    "\n",
    "print(classification_report(y_test[:,1],y_pred[:,1]))\n",
    "# many bodyparts have TN (true negative) = 0, recall 0.00 for class 1, therefore f1 score cannot be computed"
   ]
  },
  {
   "cell_type": "code",
   "execution_count": null,
   "id": "b4b8ec93-7b7e-4a12-a81e-ae97035458b4",
   "metadata": {},
   "outputs": [],
   "source": []
  },
  {
   "cell_type": "code",
   "execution_count": null,
   "id": "dec5f3d9-ff3c-4cce-b909-0adfa6fa5181",
   "metadata": {},
   "outputs": [],
   "source": []
  },
  {
   "cell_type": "code",
   "execution_count": 48,
   "id": "134be22e-18ae-4b7f-bfb4-9027e5b46c5b",
   "metadata": {},
   "outputs": [
    {
     "name": "stderr",
     "output_type": "stream",
     "text": [
      "/home/anka/.local/lib/python3.10/site-packages/sklearn/metrics/_classification.py:1327: UndefinedMetricWarning: Precision and F-score are ill-defined and being set to 0.0 in labels with no predicted samples. Use `zero_division` parameter to control this behavior.\n",
      "  _warn_prf(average, modifier, msg_start, len(result))\n",
      "/home/anka/.local/lib/python3.10/site-packages/sklearn/metrics/_classification.py:1327: UndefinedMetricWarning: Precision and F-score are ill-defined and being set to 0.0 in samples with no predicted labels. Use `zero_division` parameter to control this behavior.\n",
      "  _warn_prf(average, modifier, msg_start, len(result))\n",
      "/home/anka/.local/lib/python3.10/site-packages/sklearn/metrics/_classification.py:1327: UndefinedMetricWarning: Recall and F-score are ill-defined and being set to 0.0 in samples with no true labels. Use `zero_division` parameter to control this behavior.\n",
      "  _warn_prf(average, modifier, msg_start, len(result))\n"
     ]
    },
    {
     "data": {
      "text/plain": [
       "'              precision    recall  f1-score   support\\n\\n     Abdomen       1.00      0.28      0.43        18\\n       Ankle       0.00      0.00      0.00        11\\n\\n   micro avg       1.00      0.17      0.29        29\\n   macro avg       0.50      0.14      0.22        29\\nweighted avg       0.62      0.17      0.27        29\\n samples avg       0.01      0.01      0.01        29\\n'"
      ]
     },
     "execution_count": 48,
     "metadata": {},
     "output_type": "execute_result"
    }
   ],
   "source": [
    "# investigating agregate metrics according to \n",
    "# https://towardsdatascience.com/evaluating-multi-label-classifiers-a31be83da6ea\n",
    "classification_report(\n",
    "    y_test[:,:2],\n",
    "    y_pred[:,:2],\n",
    "    output_dict=False,\n",
    "    target_names=mult_lab.keys()[:2]\n",
    "    #target_names=list(mult_lab.keys())[:2]\n",
    ")"
   ]
  }
 ],
 "metadata": {
  "kernelspec": {
   "display_name": "Python 3 (ipykernel)",
   "language": "python",
   "name": "python3"
  },
  "language_info": {
   "codemirror_mode": {
    "name": "ipython",
    "version": 3
   },
   "file_extension": ".py",
   "mimetype": "text/x-python",
   "name": "python",
   "nbconvert_exporter": "python",
   "pygments_lexer": "ipython3",
   "version": "3.10.4"
  }
 },
 "nbformat": 4,
 "nbformat_minor": 5
}
