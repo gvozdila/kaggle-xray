{
 "cells": [
  {
   "cell_type": "code",
   "execution_count": null,
   "metadata": {},
   "outputs": [],
   "source": [
    "from torchvision import models\n",
    "import torch\n",
    "import pickle as pk # to save list as file\n",
    "import gc # garbage collector, can help you free memory\n",
    "!pip install import_ipynb\n",
    "import import_ipynb # tool allow you to import from .ipynb files. Usualy import only from .py files.\n",
    "from os.path import exists\n",
    "\n"
   ]
  },
  {
   "cell_type": "code",
   "execution_count": null,
   "metadata": {},
   "outputs": [],
   "source": [
    "from create_dataset import DicomDataset, DicomTestDataset # my dataset class\n",
    "from create_dataset import train_metadata_df # import dataset csv"
   ]
  },
  {
   "cell_type": "code",
   "execution_count": null,
   "metadata": {},
   "outputs": [],
   "source": [
    "# Creating instance of DicomDataset\n",
    "from torchvision.transforms import ToTensor, ToPILImage\n",
    "\n",
    "\n",
    "training_data = DicomDataset(\n",
    "    merged_df=train_metadata_df,\n",
    "    image_dir=\"train\",\n",
    "#    train=True,\n",
    "#    download=True,\n",
    "    preload = False,\n",
    "    transform=ToTensor()\n",
    ")\n",
    "\n",
    "\n",
    "\n",
    "testing_data = DicomTestDataset(\n",
    "    image_dir=\"test\",\n",
    "#    train=True,\n",
    "#    download=True,\n",
    "    preload = False,\n",
    "    transform=ToTensor()\n",
    ")"
   ]
  },
  {
   "cell_type": "code",
   "execution_count": null,
   "metadata": {},
   "outputs": [],
   "source": [
    "%whos # checking memory usage"
   ]
  },
  {
   "cell_type": "code",
   "execution_count": null,
   "metadata": {},
   "outputs": [],
   "source": [
    "# torch can use CUDA, this line check if CUDA is available\n",
    "device = torch.device(\"cuda:0\" if torch.cuda.is_available() else \"cpu\")\n",
    "print(device)"
   ]
  },
  {
   "cell_type": "code",
   "execution_count": null,
   "metadata": {},
   "outputs": [],
   "source": [
    "model_dict = {\"alexnet\":models.alexnet(pretrained=True),\"resnet50\":models.resnet50(pretrained=True), \n",
    "\"densenet161\":models.densenet161(pretrained=True), \n",
    "\"wide_resnet50_2\":models.wide_resnet50_2(pretrained=True),\n",
    "\"vgg13\":models.vgg13(pretrained=True)\n",
    "}\n",
    "\n",
    "def calc_features(data_set , model_dict, name_part = '', recalc = False ):\n",
    "    \n",
    "    for model_name in model_dict.keys():\n",
    "        file_name = name_part + model_name + \".fea\"\n",
    "        if (not exists(file_name) ) or (recalc):\n",
    "            \n",
    "            torch.cuda.empty_cache()\n",
    "            model = model_dict[model_name]\n",
    "            model.eval()\n",
    "            model.to(device)\n",
    "            \n",
    "            ds_res= []\n",
    "            print(\"start \",model_name)\n",
    "            for image,lable in data_set:\n",
    "                #print(image)\n",
    "                with torch.no_grad():\n",
    "                    im_res = model(torch.unsqueeze(image,0).to(device))\n",
    "                    \n",
    "                ds_res.append(im_res.to('cpu'))\n",
    "                del im_res\n",
    "                torch.cuda.empty_cache()\n",
    "                gc.collect()\n",
    "                \n",
    "            #save as binary file\n",
    "            pk.dump(ds_res, open(file_name, 'wb'))\n",
    "            print(f\"Saved features from {model_name} model into {file_name} \")\n",
    "            del ds_res\n",
    "    \n"
   ]
  },
  {
   "cell_type": "code",
   "execution_count": null,
   "metadata": {},
   "outputs": [],
   "source": [
    "\n",
    "calc_features(training_data, model_dict)\n",
    "calc_features(testing_data, model_dict,name_part = \"test_\", recalc = True)\n",
    "testing_data[0]"
   ]
  },
  {
   "cell_type": "code",
   "execution_count": null,
   "metadata": {},
   "outputs": [],
   "source": [
    "from create_dataset import DicomDataset, DicomTestDataset # my dataset class\n",
    "gc.collect()\n",
    "hsv_training_data = DicomDataset(\n",
    "    merged_df=train_metadata_df,\n",
    "    image_dir=\"train\",\n",
    "    bone = False,\n",
    "#    train=True,\n",
    "#    download=True,\n",
    "    preload = False,\n",
    "    transform=ToTensor()\n",
    ")\n",
    "\n",
    "hsv_testing_data = DicomTestDataset(\n",
    "    image_dir=\"test\",\n",
    "    bone = False,\n",
    "#    train=True,\n",
    "#    download=True,\n",
    "    preload = False,\n",
    "    transform=ToTensor()\n",
    ")\n",
    "\n",
    "calc_features(hsv_training_data, model_dict,name_part = \"hsv_\")\n",
    "gc.collect()\n",
    "calc_features(hsv_testing_data, model_dict,name_part = \"test_hsv_\")\n",
    "gc.collect()\n"
   ]
  },
  {
   "cell_type": "code",
   "execution_count": null,
   "metadata": {},
   "outputs": [],
   "source": []
  }
 ],
 "metadata": {
  "kernelspec": {
   "display_name": "Python 3.9.6 64-bit",
   "language": "python",
   "name": "python3"
  },
  "language_info": {
   "codemirror_mode": {
    "name": "ipython",
    "version": 3
   },
   "file_extension": ".py",
   "mimetype": "text/x-python",
   "name": "python",
   "nbconvert_exporter": "python",
   "pygments_lexer": "ipython3",
   "version": "3.9.6"
  },
  "vscode": {
   "interpreter": {
    "hash": "31f2aee4e71d21fbe5cf8b01ff0e069b9275f58929596ceb00d14d90e3e16cd6"
   }
  }
 },
 "nbformat": 4,
 "nbformat_minor": 2
}
