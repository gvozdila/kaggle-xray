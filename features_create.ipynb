{
 "cells": [
  {
   "cell_type": "code",
   "execution_count": null,
   "metadata": {},
   "outputs": [],
   "source": [
    "from torchvision import models\n",
    "import torch\n",
    "import pickle as pk # to save list as file\n",
    "import gc # garbage collector, can help you free memory\n",
    "!pip install import_ipynb\n",
    "import import_ipynb # tool allow you to import from .ipynb files. Usualy import only from .py files.\n",
    "\n",
    "\n"
   ]
  },
  {
   "cell_type": "code",
   "execution_count": null,
   "metadata": {},
   "outputs": [],
   "source": [
    "from create_dataset import DicomDataset # my dataset class\n",
    "from create_dataset import train_metadata_df # import dataset csv"
   ]
  },
  {
   "cell_type": "code",
   "execution_count": null,
   "metadata": {},
   "outputs": [],
   "source": [
    "# Creating instance of DicomDataset\n",
    "from torchvision.transforms import ToTensor, ToPILImage\n",
    "\n",
    "\n",
    "training_data = DicomDataset(\n",
    "    merged_df=train_metadata_df,\n",
    "    image_dir=\"train\",\n",
    "#    train=True,\n",
    "#    download=True,\n",
    "    transform=ToTensor()\n",
    ")"
   ]
  },
  {
   "cell_type": "code",
   "execution_count": null,
   "metadata": {},
   "outputs": [],
   "source": [
    "%whos # checking memory usage"
   ]
  },
  {
   "cell_type": "code",
   "execution_count": null,
   "metadata": {},
   "outputs": [],
   "source": [
    "\n",
    "alexnet = models.alexnet(pretrained=True)\n",
    "alexnet.eval()\n",
    "\n",
    "# torch can use CUDA, this line check if CUDA is available\n",
    "device = torch.device(\"cuda:0\" if torch.cuda.is_available() else \"cpu\")\n",
    "print(device)\n",
    "\n",
    "\n",
    "# from torchvision import transforms\n",
    "\n",
    "# transform = transforms.Compose([            #[1]\n",
    "#  transforms.Resize(256),                    #[2]\n",
    "#  transforms.CenterCrop(224),                #[3]\n",
    "#  transforms.ToTensor()\n",
    "# ])\n",
    "\n",
    "#img = Image.open(\"lot.png\")\n",
    "#img_t = transform(ToPILImage()((training_data[1])[0].to('cpu')))\n",
    "#img_t = ((training_data[1])[0].to('cpu'))\n",
    "#batch_t = torch.unsqueeze(img_t, 0)\n",
    "#out = alexnet(batch_t)\n",
    "#out = alexnet(train_dataloader)\n",
    "\n",
    "ds_res= []\n",
    "alexnet.to(device)\n",
    "for image,lable in training_data:\n",
    "    im_gpu = torch.unsqueeze(image,0).to(device)\n",
    "    with torch.no_grad():\n",
    "        im_res = alexnet(im_gpu)\n",
    "    im_gpu.to('cpu')\n",
    "    del im_gpu  # release memory, delete variable from memory\n",
    "    print(len(ds_res))\n",
    "    ds_res.append(im_res.to('cpu'))\n",
    "    del im_res\n",
    "    torch.cuda.empty_cache()\n",
    "    gc.collect()\n",
    "\n",
    "\n",
    "filename = \"alexnet\"\n",
    "#save as binary file\n",
    "pk.dump(ds_res, open(filename+\".fea\", 'wb'))\n",
    "del alexnet\n",
    "del ds_res\n",
    "%whos"
   ]
  },
  {
   "cell_type": "code",
   "execution_count": null,
   "metadata": {},
   "outputs": [],
   "source": [
    "model_dict = {\"resnet50\":models.resnet50(pretrained=True), \n",
    "\"densenet161\":models.densenet161(pretrained=True), \n",
    "\"wide_resnet50_2\":models.wide_resnet50_2(pretrained=True),\n",
    "\"vgg13\":models.vgg13(pretrained=True)\n",
    "}\n",
    "\n",
    "for model_name in model_dict.keys():\n",
    "    torch.cuda.empty_cache()\n",
    "    model = model_dict[model_name]\n",
    "    model.eval()\n",
    "    model.to(device)\n",
    "    \n",
    "    ds_res= []\n",
    "    print(\"start \",model_name)\n",
    "    for image,lable in training_data:\n",
    "        with torch.no_grad():\n",
    "            im_res = model(torch.unsqueeze(image,0).to(device))\n",
    "            \n",
    "        ds_res.append(im_res.to('cpu'))\n",
    "        del im_res\n",
    "        torch.cuda.empty_cache()\n",
    "        gc.collect()\n",
    "        \n",
    "    #save as binary file\n",
    "    pk.dump(ds_res, open(model_name+\".fea\", 'wb'))\n",
    "    del ds_res\n",
    "    \n"
   ]
  }
 ],
 "metadata": {
  "kernelspec": {
   "display_name": "Python 3.7.13 ('pytorch')",
   "language": "python",
   "name": "python3"
  },
  "language_info": {
   "codemirror_mode": {
    "name": "ipython",
    "version": 3
   },
   "file_extension": ".py",
   "mimetype": "text/x-python",
   "name": "python",
   "nbconvert_exporter": "python",
   "pygments_lexer": "ipython3",
   "version": "3.7.13"
  },
  "vscode": {
   "interpreter": {
    "hash": "fe26e90ddbd5367fa5ee0049ef632efa5773b42c0e43943819d0e30fa09b08ec"
   }
  }
 },
 "nbformat": 4,
 "nbformat_minor": 2
}
