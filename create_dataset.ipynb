{
 "cells": [
  {
   "cell_type": "code",
   "execution_count": 1,
   "id": "7f3ed1bb",
   "metadata": {},
   "outputs": [
    {
     "name": "stdout",
     "output_type": "stream",
     "text": [
      "0.4.2\n"
     ]
    }
   ],
   "source": [
    "import os\n",
    "import glob\n",
    "\n",
    "import pandas as pd\n",
    "import torchvision\n",
    "print(torchvision.__version__)\n",
    "#from torchvision.io import read_image\n"
   ]
  },
  {
   "cell_type": "code",
   "execution_count": 5,
   "id": "c5adb0b5",
   "metadata": {},
   "outputs": [
    {
     "name": "stdout",
     "output_type": "stream",
     "text": [
      "/home/krom/projects/kaalge/easy_xray\n",
      "bot.png\t\t\t drive-download-20220526T181307Z-001.zip  train\n",
      "convert_dicom2jpg.ipynb  lot.png\t\t\t\t  train.csv\n",
      "cot.png\t\t\t sample_submission.csv\n",
      "create_dataset.ipynb\t test\n"
     ]
    }
   ],
   "source": [
    "!cd /home/krom/projects/kaalge/easy_xray\n",
    "!pwd\n",
    "!ls "
   ]
  },
  {
   "cell_type": "code",
   "execution_count": null,
   "id": "8aeff6cc",
   "metadata": {},
   "outputs": [],
   "source": [
    "train_df = pd.read_csv('train.csv')\n",
    "#test_df = pd.read_csv('test.csv')\n",
    "train_df #.iloc[0,0]\n",
    "import os.path\n",
    "files_path = glob.glob(\"**/*.jpg\",recursive=True)\n",
    "\n",
    "train_df['Target'].unique()\n",
    "files_path\n",
    "bone_files = [ f for f in files_path if f.endswith('bone.jpg')]\n",
    "hsv_files = [ f for f in files_path if not f.endswith('bone.jpg')]\n",
    "#hsv_files,bone_files"
   ]
  },
  {
   "cell_type": "code",
   "execution_count": 7,
   "id": "c14c0c98",
   "metadata": {},
   "outputs": [],
   "source": [
    "from torch.utils.data import Dataset\n",
    "class CustomImageDataset(Dataset):\n",
    "    def __init__(self, annotations_file, img_dir, transform=None, target_transform=None):\n",
    "        self.img_labels = pd.read_csv(annotations_file)\n",
    "        self.img_dir = img_dir\n",
    "        self.transform = transform\n",
    "        self.target_transform = target_transform\n",
    "\n",
    "    def __len__(self):\n",
    "        return len(self.img_labels)\n",
    "\n",
    "    def __getitem__(self, idx):\n",
    "        img_path = os.path.join(self.img_dir, self.img_labels.iloc[idx, 0])\n",
    "        image = read_image(img_path)\n",
    "        label = self.img_labels.iloc[idx, 1]\n",
    "        if self.transform:\n",
    "            image = self.transform(image)\n",
    "        if self.target_transform:\n",
    "            label = self.target_transform(label)\n",
    "        return image, label\n"
   ]
  },
  {
   "cell_type": "code",
   "execution_count": null,
   "id": "9dafe13b",
   "metadata": {},
   "outputs": [],
   "source": []
  }
 ],
 "metadata": {
  "kernelspec": {
   "display_name": "Python 3",
   "language": "python",
   "name": "python3"
  },
  "language_info": {
   "codemirror_mode": {
    "name": "ipython",
    "version": 3
   },
   "file_extension": ".py",
   "mimetype": "text/x-python",
   "name": "python",
   "nbconvert_exporter": "python",
   "pygments_lexer": "ipython3",
   "version": "3.7.13"
  }
 },
 "nbformat": 4,
 "nbformat_minor": 5
}
