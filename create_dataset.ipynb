{
 "cells": [
  {
   "cell_type": "code",
   "execution_count": null,
   "id": "7f3ed1bb",
   "metadata": {},
   "outputs": [],
   "source": [
    "import os\n",
    "import glob\n",
    "\n",
    "import pandas as pd\n",
    "import torchvision\n",
    "import matplotlib.pyplot as plt\n",
    "import numpy as np\n",
    "from PIL import Image\n",
    "print(torchvision.__version__)\n",
    "#from torchvision.io import read_image\n"
   ]
  },
  {
   "cell_type": "code",
   "execution_count": null,
   "id": "c5adb0b5",
   "metadata": {},
   "outputs": [],
   "source": [
    "!cd /home/krom/projects/kaalge/easy_xray\n",
    "!pwd\n",
    "!ls "
   ]
  },
  {
   "cell_type": "code",
   "execution_count": null,
   "id": "8aeff6cc",
   "metadata": {},
   "outputs": [],
   "source": [
    "#train_df = pd.read_csv('train.csv')\n",
    "train_metadata_df = pd.read_csv('dicom_metadata_train_merged.csv') # Took it from kaggle notebooks\n",
    "#test_df = pd.read_csv('test.csv')\n",
    "#train_df #.iloc[0,0]\n",
    "import os.path\n",
    "files_path = glob.glob(\"**/*.jpg\",recursive=True)\n",
    "\n",
    "#train_df['Target'].unique()\n",
    "files_path\n",
    "bone_files = [ f for f in files_path if f.endswith('bone.jpg')]\n",
    "hsv_files = [ f for f in files_path if not f.endswith('bone.jpg')]\n",
    "#hsv_files[3],\"\\n\",train_df.iloc[666,0]#,bone_files\n",
    "#train_df.loc['1.2.826.0.1.3680043.8.498.33785782871926445035243454630719127502']\n",
    "\n",
    "for f in bone_files:\n",
    "    if train_metadata_df['SOPInstanceUID'].iloc[666] in f:\n",
    "        print(f, \"\\n\", train_metadata_df['SOPInstanceUID'].iloc[666])\n",
    "train_metadata_df.head(8).columns[64:]\n",
    "#y.append(np.ndarray.flatten(np.array(train_merged_df.loc[train_merged_df['SOPInstanceUID'] == uid][train_merged_df.columns[64:]])))\n",
    "    "
   ]
  },
  {
   "cell_type": "code",
   "execution_count": null,
   "id": "c14c0c98",
   "metadata": {},
   "outputs": [],
   "source": [
    "from torch.utils.data import Dataset\n",
    "#from torchvision.io import read_image toooo old fot that stuff\n",
    "\n",
    "\n",
    "\n",
    "class DicomDataset(Dataset):\n",
    "    def __init__(self, merged_df, image_dir, bone = True, preload = True, transform=None, target_transform=None):\n",
    "        self.img_labels = merged_df\n",
    "        \n",
    "        self.img_dir = image_dir\n",
    "        self.transform = transform\n",
    "        self.target_transform = target_transform\n",
    "        self.files_path = glob.glob(image_dir+\"/**/*.jpg\",recursive=True)\n",
    "        #print(len(self.img_labels), self.img_labels['SOPInstanceUID'])\n",
    "        self.images = []\n",
    "        self.file_pathes = []\n",
    "        for im_num in range(len(self.img_labels)):\n",
    "            item_name = self.img_labels['SOPInstanceUID'].iloc[im_num]\n",
    "            #print(item_name)\n",
    "            if bone:\n",
    "                file_path = [ f for f in files_path if f.endswith(item_name + '-c.bone.jpg')]\n",
    "            else:\n",
    "                file_path = [ f for f in files_path if f.endswith(item_name + '-c.jpg')]\n",
    "            self.file_pathes.append(file_path[0])\n",
    "        #print(self.file_pathes)\n",
    "        if preload:\n",
    "            for img_path in self.file_pathes:\n",
    "                \n",
    "                #image = read_image(img_path) # my torch is too old. i'l use workaround\n",
    "                image = Image.open(img_path)\n",
    "                image = np.array(image).astype(np.uint8)\n",
    "                self.images.append(image)\n",
    "            self.preloaded = preload\n",
    "        print(len(self.images))\n",
    "\n",
    "\n",
    "    def __len__(self):\n",
    "        return len(self.img_labels)\n",
    "\n",
    "    def __getitem__(self, idx):\n",
    "        if self.preloaded:\n",
    "            image = self.images[idx]\n",
    "        else:\n",
    "            image = read_image(self.file_pathes[idx])\n",
    "        \n",
    "        label = self.img_labels.iloc[idx, 64:]\n",
    "        if self.transform:\n",
    "            image = self.transform(image)\n",
    "        if self.target_transform:\n",
    "            label = self.target_transform(label)\n",
    "        return image, label\n"
   ]
  },
  {
   "cell_type": "code",
   "execution_count": null,
   "id": "9dafe13b",
   "metadata": {},
   "outputs": [],
   "source": [
    "from torchvision.transforms import ToTensor, ToPILImage\n",
    "training_data = DicomDataset(\n",
    "    merged_df=train_metadata_df,\n",
    "    image_dir=\"train\",\n",
    "#    train=True,\n",
    "#    download=True,\n",
    "    transform=ToTensor()\n",
    ")\n",
    "\n"
   ]
  },
  {
   "cell_type": "code",
   "execution_count": null,
   "id": "b23bdf82-1f8c-4322-b688-cce97a39bc08",
   "metadata": {},
   "outputs": [],
   "source": [
    "from torch.utils.data import DataLoader\n",
    "from torch.utils.data import random_split\n",
    "\n",
    "train_size = int(0.8 * len(training_data))\n",
    "test_size = len(training_data) - train_size\n",
    "train_dataset, test_dataset = random_split(training_data, [train_size, test_size])\n",
    "\n",
    "train_dataloader = DataLoader(train_dataset, batch_size=64, shuffle=True)\n",
    "test_dataloader = DataLoader(test_dataset, batch_size=64, shuffle=True)"
   ]
  },
  {
   "cell_type": "code",
   "execution_count": null,
   "id": "8f20dfc8-0fed-48e8-b02f-531c192c97d6",
   "metadata": {},
   "outputs": [],
   "source": [
    "train_dataloader\n",
    "len(training_data)"
   ]
  },
  {
   "cell_type": "code",
   "execution_count": null,
   "id": "3c735e53-0f3d-46dc-8600-939a798a1bc2",
   "metadata": {},
   "outputs": [],
   "source": [
    "import torch as torch\n",
    "figure = plt.figure(figsize=(8, 8))\n",
    "cols, rows = 3, 3\n",
    "for i in range(1, cols * rows + 1):\n",
    "    sample_idx = torch.randint(len(training_data), size=(1,)).item()\n",
    "    img, label = training_data[sample_idx]\n",
    "    print(img.shape)\n",
    "    img = ToPILImage()(img.to('cpu'))\n",
    "    figure.add_subplot(rows, cols, i)\n",
    "    #plt.title(labels_map[label])\n",
    "    plt.axis(\"off\")\n",
    "    plt.imshow(img, cmap=\"gray\")\n",
    "plt.show()"
   ]
  },
  {
   "cell_type": "code",
   "execution_count": null,
   "id": "868f5472-f195-43b9-9516-b5590a8a5277",
   "metadata": {},
   "outputs": [],
   "source": [
    "from torchvision import models\n",
    "alexnet = models.alexnet(pretrained=True)\n",
    "alexnet.eval()\n",
    "\n",
    "\n",
    "\n",
    "\n",
    "from torchvision import transforms\n",
    "\n",
    "transform = transforms.Compose([            #[1]\n",
    "\n",
    " transforms.Resize(256),                    #[2]\n",
    "\n",
    " transforms.CenterCrop(224),                #[3]\n",
    "\n",
    " transforms.ToTensor()\n",
    "])\n",
    "\n",
    "\n",
    "img = Image.open(\"lot.png\")\n",
    "img_t = transform(ToPILImage()((training_data[1])[0].to('cpu')))\n",
    "img_t = ((training_data[1])[0].to('cpu'))\n",
    "batch_t = torch.unsqueeze(img_t, 0)\n",
    "out = alexnet(batch_t)\n",
    "#out = alexnet(train_dataloader)\n"
   ]
  },
  {
   "cell_type": "code",
   "execution_count": null,
   "id": "845895a3-644a-458f-b4ab-a253d54198da",
   "metadata": {},
   "outputs": [],
   "source": [
    "out.shape"
   ]
  },
  {
   "cell_type": "code",
   "execution_count": null,
   "id": "ac112aed-9c9a-4b1e-ac95-ca80f3f6e74e",
   "metadata": {},
   "outputs": [],
   "source": [
    "import torch.nn as nn\n",
    "n_features = 100\n",
    "resnet = models.resnet18()\n",
    "resnet.fc = nn.Linear(resnet.fc.in_features, n_features)\n",
    "torch.save(resnet, 'model.pth')\n",
    "model = torch.load('model.pth')\n",
    "\n",
    "inp = torch.randn(1, 3, 224, 224)\n",
    "out = model(inp)\n",
    "print(out.size())\n",
    "#out"
   ]
  },
  {
   "cell_type": "code",
   "execution_count": null,
   "id": "e8c6b751-c441-41f0-af20-d634db8a324e",
   "metadata": {},
   "outputs": [],
   "source": []
  }
 ],
 "metadata": {
  "kernelspec": {
   "display_name": "Python 3 (ipykernel)",
   "language": "python",
   "name": "python3"
  },
  "language_info": {
   "codemirror_mode": {
    "name": "ipython",
    "version": 3
   },
   "file_extension": ".py",
   "mimetype": "text/x-python",
   "name": "python",
   "nbconvert_exporter": "python",
   "pygments_lexer": "ipython3",
   "version": "3.9.6"
  }
 },
 "nbformat": 4,
 "nbformat_minor": 5
}
