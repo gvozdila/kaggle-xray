{
 "cells": [
  {
   "cell_type": "code",
   "execution_count": null,
   "metadata": {},
   "outputs": [],
   "source": [
    "import pickle\n",
    "import pandas as pd\n",
    "with open('alexnet.fea', 'rb') as f:\n",
    "    alex_features = pickle.load(f)\n",
    "\n",
    "train_metadata_df = pd.read_csv('dicom_metadata_train_merged.csv') # Took it from kaggle notebooks\n"
   ]
  },
  {
   "cell_type": "code",
   "execution_count": null,
   "metadata": {},
   "outputs": [],
   "source": [
    "from torch.utils.data import Dataset\n",
    "#from torchvision.io import read_image toooo old fot that stuff\n",
    "\n",
    "\n",
    "\n",
    "class featuresDataset(Dataset):\n",
    "    def __init__(self, merged_df, features_list, transform = None, target_transform = None):\n",
    "        self.img_labels = merged_df\n",
    "        self.features_list = features_list\n",
    "        self.transform = transform\n",
    "        self.target_transform = target_transform\n",
    "        print(\"Dataset loaded. Length = \",len(self.features_list))\n",
    "\n",
    "\n",
    "    def __len__(self):\n",
    "        return len(self.features_list)\n",
    "\n",
    "    def __getitem__(self, idx):\n",
    "        feature = self.features_list[idx]\n",
    "        \n",
    "        label = self.img_labels.iloc[idx, 64:]\n",
    "        if self.transform:\n",
    "            feature = self.transform(feature)\n",
    "        if self.target_transform:\n",
    "            label = self.target_transform(label)\n",
    "        return feature, label\n",
    "    \n",
    "    def get_all_data(self):\n",
    "        return self.features_list"
   ]
  },
  {
   "cell_type": "code",
   "execution_count": null,
   "metadata": {},
   "outputs": [],
   "source": [
    "from torchvision.transforms import ToTensor, ToPILImage\n",
    "\n",
    "\n",
    "training_data = featuresDataset(\n",
    "    merged_df=train_metadata_df,\n",
    "    features_list=alex_features,\n",
    "#    train=True,\n",
    "#    download=True,\n",
    "    #transform=ToTensor()\n",
    ")\n"
   ]
  },
  {
   "cell_type": "code",
   "execution_count": null,
   "metadata": {},
   "outputs": [],
   "source": [
    "training_data[55]"
   ]
  },
  {
   "cell_type": "code",
   "execution_count": null,
   "metadata": {},
   "outputs": [],
   "source": []
  }
 ],
 "metadata": {
  "kernelspec": {
   "display_name": "Python 3.8.10 64-bit",
   "language": "python",
   "name": "python3"
  },
  "language_info": {
   "codemirror_mode": {
    "name": "ipython",
    "version": 3
   },
   "file_extension": ".py",
   "mimetype": "text/x-python",
   "name": "python",
   "nbconvert_exporter": "python",
   "pygments_lexer": "ipython3",
   "version": "3.8.10"
  },
  "orig_nbformat": 4,
  "vscode": {
   "interpreter": {
    "hash": "31f2aee4e71d21fbe5cf8b01ff0e069b9275f58929596ceb00d14d90e3e16cd6"
   }
  }
 },
 "nbformat": 4,
 "nbformat_minor": 2
}
