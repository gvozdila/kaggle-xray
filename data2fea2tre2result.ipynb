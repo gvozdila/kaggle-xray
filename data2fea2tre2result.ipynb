{
 "cells": [
  {
   "cell_type": "code",
   "execution_count": null,
   "metadata": {},
   "outputs": [],
   "source": [
    "from torchvision import models\n",
    "import torch\n",
    "import pickle as pk # to save list as file\n",
    "import gc # garbage collector, can help you free memory\n",
    "!pip install import_ipynb\n",
    "import import_ipynb # tool allow you to import from .ipynb files. Usualy import only from .py files.\n",
    "from os.path import exists\n",
    "\n",
    "\n",
    "\n",
    "from sklearn.ensemble import RandomForestClassifier\n",
    "from sklearn.metrics import hamming_loss\n",
    "\n",
    "\n",
    "\n",
    "\n",
    "# torch can use CUDA, this line check if CUDA is available\n",
    "device = torch.device(\"cuda:0\" if torch.cuda.is_available() else \"cpu\")\n",
    "print(device)"
   ]
  },
  {
   "cell_type": "code",
   "execution_count": null,
   "metadata": {},
   "outputs": [],
   "source": [
    "from create_dataset import DicomDataset, DicomTestDataset # my dataset class\n",
    "from create_dataset import train_metadata_df # import dataset csv"
   ]
  },
  {
   "cell_type": "code",
   "execution_count": null,
   "metadata": {},
   "outputs": [],
   "source": [
    "# Creating instance of DicomDataset\n",
    "from torchvision.transforms import ToTensor, ToPILImage, Compose\n",
    "from torchvision.transforms import RandAugment # makes troubles with dataloader\n",
    "from torchvision.transforms import AutoAugmentPolicy.IMAGENET, AutoAugment\n",
    "\n",
    "rand_aug_transformation = Compose([\n",
    "    ToTensor(),\n",
    "    AutoAugment(AutoAugmentPolicy.IMAGENET)])\n",
    "\n",
    "# policies = [T.AutoAugmentPolicy.CIFAR10, T.AutoAugmentPolicy.IMAGENET, T.AutoAugmentPolicy.SVHN]\n",
    "# augmenters = [T.AutoAugment(policy) for policy in policies]\n",
    "# imgs = [\n",
    "#     [augmenter(orig_img) for _ in range(4)]\n",
    "#     for augmenter in augmenters\n",
    "# ]\n",
    "\n",
    "train_dataset = DicomDataset(\n",
    "    merged_df=train_metadata_df,\n",
    "    image_dir=\"train\",\n",
    "#    train=True,\n",
    "#    download=True,\n",
    "    preload = False,\n",
    "    transform=rand_aug_transformation\n",
    ")\n",
    "\n",
    "\n",
    "\n",
    "test_dataset = DicomTestDataset(\n",
    "    image_dir=\"test\",\n",
    "#    train=True,\n",
    "#    download=True,\n",
    "    preload = False,\n",
    "    transform=ToTensor()\n",
    ")\n",
    "\n",
    "test_augmented_dataset = DicomTestDataset(\n",
    "    image_dir=\"test\",\n",
    "#    train=True,\n",
    "#    download=True,\n",
    "    preload = False,\n",
    "    transform=rand_aug_transformation\n",
    ")\n",
    "\n",
    "# >>> transforms.Compose([\n",
    "# >>>     transforms.CenterCrop(10),\n",
    "# >>>     transforms.PILToTensor(),\n",
    "# >>>     transforms.ConvertImageDtype(torch.float),\n",
    "# >>> ])\n",
    "#augmenter = T.RandAugment()"
   ]
  },
  {
   "cell_type": "code",
   "execution_count": null,
   "metadata": {},
   "outputs": [],
   "source": [
    "from torch.utils.data import DataLoader\n",
    "from torch.utils.data import random_split\n",
    "\n",
    "train_dataloader = DataLoader(train_dataset, batch_size=10, shuffle=True)\n",
    "test_dataloader = DataLoader(test_dataset, batch_size=10, shuffle=True)\n",
    "\n",
    "train_dataloader.__iter__()"
   ]
  },
  {
   "cell_type": "code",
   "execution_count": null,
   "metadata": {},
   "outputs": [],
   "source": [
    "for list_of_tensor_images,list_of_labels in train_dataloader:\n",
    "    print(list_of_tensor_images.shape,\"LABELS !!!!\",list_of_labels)\n",
    "    break\n"
   ]
  },
  {
   "cell_type": "code",
   "execution_count": null,
   "metadata": {},
   "outputs": [],
   "source": []
  },
  {
   "cell_type": "code",
   "execution_count": null,
   "metadata": {},
   "outputs": [],
   "source": [
    "model = models.alexnet(pretrained=True)\n",
    "\n",
    "\n",
    "torch.cuda.empty_cache()\n",
    "#model = model_dict[model_name]\n",
    "model.eval()\n",
    "model.to(device)\n",
    "\n",
    "ds_res= []\n",
    "#print(\"start \",model_name)\n",
    "#for image,lable in data_set:\n",
    "for list_of_tensor_images,list_of_labels in (train_dataloader):\n",
    "    #print(image)\n",
    "    with torch.no_grad():\n",
    "        features = model(list_of_tensor_images.to(device))\n",
    "        #features = model(torch.unsqueeze(image,0).to(device))\n",
    "        print(type(features),type(features.numpy()),features.numpy().shape,len([ elem.numpy() for elem in features ]),features.shape)\n",
    "\n",
    "    \n",
    "    #alex_np_fea = [ elem.numpy()[0] for elem in alex_features ]\n",
    "    sk_feat = [ elem for elem in features.numpy() ]\n",
    "    print(len(sk_feat),len(sk_feat[0]),sk_feat)\n",
    "    print(len(list_of_labels),len(list_of_labels[0]),list_of_labels)\n",
    "    rfc = RandomForestClassifier(n_jobs=7, n_estimators= 100)\n",
    "    rfc.fit(sk_feat,list_of_labels)\n",
    "        \n",
    "    #ds_res.append(im_res.to('cpu'))\n",
    "    del fetures\n",
    "    torch.cuda.empty_cache()\n",
    "    gc.collect()"
   ]
  },
  {
   "cell_type": "code",
   "execution_count": null,
   "metadata": {},
   "outputs": [],
   "source": []
  }
 ],
 "metadata": {
  "kernelspec": {
   "display_name": "Python 3.9.6 64-bit",
   "language": "python",
   "name": "python3"
  },
  "language_info": {
   "codemirror_mode": {
    "name": "ipython",
    "version": 3
   },
   "file_extension": ".py",
   "mimetype": "text/x-python",
   "name": "python",
   "nbconvert_exporter": "python",
   "pygments_lexer": "ipython3",
   "version": "3.9.6"
  },
  "vscode": {
   "interpreter": {
    "hash": "31f2aee4e71d21fbe5cf8b01ff0e069b9275f58929596ceb00d14d90e3e16cd6"
   }
  }
 },
 "nbformat": 4,
 "nbformat_minor": 2
}
