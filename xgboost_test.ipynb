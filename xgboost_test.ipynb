{
 "cells": [
  {
   "cell_type": "code",
   "execution_count": null,
   "id": "9cb5e14f-4c86-4065-95ae-2a14fc0463ce",
   "metadata": {},
   "outputs": [],
   "source": []
  },
  {
   "cell_type": "code",
   "execution_count": null,
   "id": "1cfa5675-c333-42c4-bfe4-4830908a7a02",
   "metadata": {},
   "outputs": [],
   "source": [
    "from sklearn.datasets import load_boston\n",
    "boston = load_boston()"
   ]
  },
  {
   "cell_type": "code",
   "execution_count": null,
   "id": "25fea65d-6702-4457-bdfe-8ef78a088243",
   "metadata": {},
   "outputs": [],
   "source": [
    "print(boston.keys())"
   ]
  },
  {
   "cell_type": "code",
   "execution_count": null,
   "id": "f6fdc5f5-ae3e-4e56-9e39-cccbb07a393a",
   "metadata": {},
   "outputs": [],
   "source": [
    "print(boston.data.shape)"
   ]
  },
  {
   "cell_type": "code",
   "execution_count": null,
   "id": "70a3aa94-8574-45e0-9967-372a373a64e2",
   "metadata": {},
   "outputs": [],
   "source": [
    "print(boston.feature_names)"
   ]
  },
  {
   "cell_type": "code",
   "execution_count": null,
   "id": "9e1060cf-752a-49c0-b815-85040c973dbf",
   "metadata": {},
   "outputs": [],
   "source": [
    "print(boston.DESCR)"
   ]
  },
  {
   "cell_type": "code",
   "execution_count": null,
   "id": "7fe6d88c-aa2d-4d2b-81e6-19ab1533dcb0",
   "metadata": {},
   "outputs": [],
   "source": [
    "import xgboost as xgb\n",
    "from sklearn.metrics import mean_squared_error\n",
    "import pandas as pd\n",
    "import numpy as np"
   ]
  },
  {
   "cell_type": "code",
   "execution_count": null,
   "id": "fccca7b1-c736-4aba-8ccc-17ad2fa6da19",
   "metadata": {},
   "outputs": [],
   "source": [
    "\n",
    "data = pd.DataFrame(boston.data)\n",
    "data.columns = boston.feature_names"
   ]
  },
  {
   "cell_type": "code",
   "execution_count": null,
   "id": "03b482b5-dcec-4bdd-a59d-4c56bf8ba333",
   "metadata": {},
   "outputs": [],
   "source": [
    "X, y = data.iloc[:,:-1],data.iloc[:,-1]"
   ]
  },
  {
   "cell_type": "code",
   "execution_count": null,
   "id": "121add92-cb3e-43e5-a08e-bbb34dfb817a",
   "metadata": {},
   "outputs": [],
   "source": [
    "data_dmatrix = xgb.DMatrix(data=X,label=y)"
   ]
  },
  {
   "cell_type": "code",
   "execution_count": null,
   "id": "fc1090ba-3107-4de7-818d-928ecbe811cc",
   "metadata": {},
   "outputs": [],
   "source": [
    "from sklearn.model_selection import train_test_split\n",
    "\n",
    "X_train, X_test, y_train, y_test = train_test_split(X, y, test_size=0.2, random_state=123)\n"
   ]
  },
  {
   "cell_type": "code",
   "execution_count": null,
   "id": "9b94bed9-8fa8-4629-95d4-2de252439440",
   "metadata": {},
   "outputs": [],
   "source": [
    "# TEsting sklearn example\n",
    "from sklearn.datasets import load_diabetes\n",
    "from sklearn.model_selection import cross_val_score\n",
    "from sklearn.tree import DecisionTreeRegressor\n",
    "X_d, y_d = load_diabetes(return_X_y=True)\n",
    "regressor =  DecisionTreeRegressor(random_state=0)\n",
    "cross_val_score(regressor, X_d, y_d, cv=10)"
   ]
  },
  {
   "cell_type": "code",
   "execution_count": null,
   "id": "085157a7-5c26-48a0-bfc6-af0f01d638d9",
   "metadata": {},
   "outputs": [],
   "source": [
    "# Lets load use sklearn DTR with boston\n",
    "b_regressor = DecisionTreeRegressor(random_state=1)\n",
    "cross_val_score(b_regressor, X_train, y_train, cv = 10)"
   ]
  },
  {
   "cell_type": "code",
   "execution_count": null,
   "id": "8e37a550-3126-438d-b448-01e1efdbfafc",
   "metadata": {},
   "outputs": [],
   "source": [
    "xg_reg = xgb.XGBRegressor(objective ='reg:linear', colsample_bytree = 0.3, learning_rate = 0.1,\n",
    "                max_depth = 5, alpha = 10, n_estimators = 10)"
   ]
  },
  {
   "cell_type": "code",
   "execution_count": null,
   "id": "32f17c02-8f89-4647-9519-417fa8481a24",
   "metadata": {},
   "outputs": [],
   "source": [
    "%time xg_reg.fit(X_train,y_train)\n",
    "%time b_regressor.fit(X_train,y_train)\n",
    "%time b_preds = b_regressor.predict(X_test)\n",
    "%time preds = xg_reg.predict(X_test)\n",
    "#b_preds, preds"
   ]
  },
  {
   "cell_type": "code",
   "execution_count": null,
   "id": "90a719d7-ba56-4d17-9ff7-de696f0729d1",
   "metadata": {},
   "outputs": [],
   "source": [
    "rmse = np.sqrt(mean_squared_error(y_test, preds))\n",
    "print(\"RMSE: %f\" % (rmse))\n",
    "rmse = np.sqrt(mean_squared_error(y_test, b_preds))\n",
    "print(\"basic RMSE: %f\" % (rmse))"
   ]
  },
  {
   "cell_type": "code",
   "execution_count": null,
   "id": "d3316720-b365-4dbd-bcad-92675a74acb3",
   "metadata": {},
   "outputs": [],
   "source": [
    "rmse = np.sqrt(mean_squared_error(y_test, (preds + b_preds)/2 ))\n",
    "print(\"RMSE: %f\" % (rmse)) "
   ]
  },
  {
   "cell_type": "code",
   "execution_count": null,
   "id": "62a6922f-9b5c-43a5-9a5b-43f77faba03e",
   "metadata": {},
   "outputs": [],
   "source": [
    "for i in range(len(preds)):\n",
    "    print(\"Y=\", y_test.iloc[i], \" preds=\",preds[i],\", b_preds=\",b_preds[i],\", mean_preds=\",(preds[i] + b_preds[i])/2)"
   ]
  },
  {
   "cell_type": "code",
   "execution_count": null,
   "id": "e53dbd35-2673-482a-9d02-e6d20a160966",
   "metadata": {},
   "outputs": [],
   "source": [
    "params = {\"objective\":\"reg:linear\",'colsample_bytree': 0.3,'learning_rate': 0.1,\n",
    "                'max_depth': 5, 'alpha': 10}\n",
    "\n",
    "cv_results = xgb.cv(dtrain=data_dmatrix, params=params, nfold=3,\n",
    "                    num_boost_round=50,early_stopping_rounds=10,metrics=\"rmse\", as_pandas=True, seed=123)\n"
   ]
  },
  {
   "cell_type": "code",
   "execution_count": null,
   "id": "6a6e3de4-6d09-406e-a297-24223e63c3c5",
   "metadata": {},
   "outputs": [],
   "source": [
    "cv_results.head, cv_results.shape"
   ]
  },
  {
   "cell_type": "code",
   "execution_count": null,
   "id": "2abb87a8-0b3e-429b-a53c-31459cbcf016",
   "metadata": {},
   "outputs": [],
   "source": [
    "print((cv_results[\"test-rmse-mean\"]).tail(1))"
   ]
  },
  {
   "cell_type": "code",
   "execution_count": null,
   "id": "50107c0c-5cd8-483b-a1a2-fa643463713d",
   "metadata": {},
   "outputs": [],
   "source": [
    "xg_reg = xgb.train(params=params, dtrain=data_dmatrix, num_boost_round=10)"
   ]
  },
  {
   "cell_type": "code",
   "execution_count": null,
   "id": "4aac0f19-77e8-4118-833f-57edadcbfc53",
   "metadata": {},
   "outputs": [],
   "source": [
    "import matplotlib.pyplot as plt\n",
    "\n",
    "xgb.plot_tree(xg_reg,num_trees=0)\n",
    "plt.rcParams['figure.figsize'] = [50, 20]\n",
    "plt.show()"
   ]
  },
  {
   "cell_type": "code",
   "execution_count": null,
   "id": "93f699a3-c37c-4c94-8607-49e158bb86eb",
   "metadata": {},
   "outputs": [],
   "source": [
    "xgb.plot_importance(xg_reg)\n",
    "plt.rcParams['figure.figsize'] = [50, 50]\n",
    "plt.show()"
   ]
  },
  {
   "cell_type": "code",
   "execution_count": null,
   "id": "2934b740-d6b3-4e25-ac29-380ff9aee473",
   "metadata": {},
   "outputs": [],
   "source": []
  }
 ],
 "metadata": {
  "kernelspec": {
   "display_name": "Python 3.9.6 64-bit",
   "language": "python",
   "name": "python3"
  },
  "language_info": {
   "codemirror_mode": {
    "name": "ipython",
    "version": 3
   },
   "file_extension": ".py",
   "mimetype": "text/x-python",
   "name": "python",
   "nbconvert_exporter": "python",
   "pygments_lexer": "ipython3",
   "version": "3.9.6"
  },
  "vscode": {
   "interpreter": {
    "hash": "31f2aee4e71d21fbe5cf8b01ff0e069b9275f58929596ceb00d14d90e3e16cd6"
   }
  }
 },
 "nbformat": 4,
 "nbformat_minor": 5
}
